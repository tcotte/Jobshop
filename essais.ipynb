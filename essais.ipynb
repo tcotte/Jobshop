{
 "cells": [
  {
   "cell_type": "code",
   "execution_count": null,
   "outputs": [],
   "source": [
    "import numpy as np\n",
    "\n",
    "f = open(\"instances/aaa1\", \"r\")\n",
    "content = f.read()\n",
    "f.close()\n",
    "#print(content)\n",
    "\n",
    "lines = content.split(\"\\n\")\n",
    "\n",
    "array = []\n",
    "\n",
    "for line in lines:\n",
    "    if line.startswith('#'): # filter lines of comment\n",
    "        pass\n",
    "    else :\n",
    "        numbers = line.split(\" \") \n",
    "        while numbers.count('') >0:\n",
    "            numbers.remove('')\n",
    "        for j in range(len(numbers)):\n",
    "            numbers[j] = int(numbers[j])\n",
    "\n",
    "        if numbers != []:\n",
    "            array.append(numbers)\n",
    "\n",
    "print(array)\n",
    "\n",
    "nb_jobs = array[0][0] #number of jobs\n",
    "nb_machines = array[0][1] #number of machines\n",
    "\n",
    "print(nb_jobs)\n",
    "print(nb_machines)"
   ],
   "metadata": {
    "collapsed": false,
    "pycharm": {
     "name": "#%%\n"
    }
   }
  },
  {
   "cell_type": "code",
   "execution_count": null,
   "outputs": [],
   "source": [
    "machines = np.matrix(array[1:])[:,::2]\n",
    "print(machines)"
   ],
   "metadata": {
    "collapsed": false,
    "pycharm": {
     "name": "#%%\n"
    }
   }
  },
  {
   "cell_type": "code",
   "execution_count": null,
   "outputs": [],
   "source": [
    "durations = np.matrix(array[1:])[:,1::2]\n",
    "print(durations)"
   ],
   "metadata": {
    "collapsed": false,
    "pycharm": {
     "name": "#%%\n"
    }
   }
  },
  {
   "cell_type": "code",
   "execution_count": null,
   "outputs": [],
   "source": [
    "naive_makespan = np.sum(durations)"
   ],
   "metadata": {
    "collapsed": false,
    "pycharm": {
     "name": "#%%\n"
    }
   }
  },
  {
   "cell_type": "code",
   "execution_count": null,
   "outputs": [],
   "source": [
    "list_r = []\n",
    "for i in range(nb_machines):\n",
    "    list_r.append(\"r\"+str(i+1))\n",
    "\n",
    "list_r"
   ],
   "metadata": {
    "collapsed": false,
    "pycharm": {
     "name": "#%%\n"
    }
   }
  },
  {
   "cell_type": "code",
   "execution_count": null,
   "outputs": [],
   "source": [
    "from numpy.random import default_rng\n",
    "\n",
    "list_solution = []\n",
    "\n",
    "for i in range(nb_machines):\n",
    "    rng = default_rng()\n",
    "    list_ressource = rng.choice((1,nb_jobs), size=nb_jobs, replace=False).tolist()\n",
    "    list_solution.append(list_ressource)\n",
    "    \n",
    "list_solution"
   ],
   "metadata": {
    "collapsed": false,
    "pycharm": {
     "name": "#%%\n"
    }
   }
  },
  {
   "cell_type": "code",
   "execution_count": null,
   "outputs": [],
   "source": [
    "list_tuples = []\n",
    "l = []\n",
    "\n",
    "for i in range(len(list_solution)):\n",
    "    for j in range(nb_jobs):\n",
    "        job_number = list_solution[i][j]\n",
    "        operation = machines[job_number-1,i]+1\n",
    "#         print(job_number, operation)\n",
    "        t = (job_number, operation)\n",
    "        list_tuples.append(t)\n",
    "        \n",
    "list_tuples"
   ],
   "metadata": {
    "collapsed": false,
    "pycharm": {
     "name": "#%%\n"
    }
   }
  },
  {
   "cell_type": "code",
   "execution_count": null,
   "outputs": [],
   "source": [
    "\n",
    "l = []\n",
    "\n",
    "for i in range(len(list_solution)):\n",
    "    list_tuples = []\n",
    "    for j in range(nb_jobs):\n",
    "        job_number = list_solution[i][j]\n",
    "        operation = machines[job_number-1,i]+1\n",
    "#         print(job_number, operation)\n",
    "        t = (job_number, operation)\n",
    "        list_tuples.append(t)\n",
    "    l.append(list_tuples)\n",
    "\n",
    "l"
   ],
   "metadata": {
    "collapsed": false,
    "pycharm": {
     "name": "#%%\n"
    }
   }
  },
  {
   "cell_type": "code",
   "execution_count": null,
   "outputs": [],
   "source": [
    "machines[0,0]"
   ],
   "metadata": {
    "collapsed": false,
    "pycharm": {
     "name": "#%%\n"
    }
   }
  },
  {
   "cell_type": "code",
   "execution_count": null,
   "outputs": [],
   "source": [
    "len(list_solution)"
   ],
   "metadata": {
    "collapsed": false,
    "pycharm": {
     "name": "#%%\n"
    }
   }
  },
  {
   "cell_type": "code",
   "execution_count": null,
   "outputs": [],
   "source": [
    "import pandas as pd\n",
    "df = pd.DataFrame(l, index=list_r)\n",
    "df"
   ],
   "metadata": {
    "collapsed": false,
    "pycharm": {
     "name": "#%%\n"
    }
   }
  },
  {
   "cell_type": "code",
   "execution_count": null,
   "outputs": [],
   "source": [
    "df_sol = pd.DataFrame([[(1, 1), (2, 2)], [(2, 1), (1, 2)], [(1, 3), (2, 3)]], index=list_r)\n",
    "df_sol"
   ],
   "metadata": {
    "collapsed": false,
    "pycharm": {
     "name": "#%%\n"
    }
   }
  },
  {
   "cell_type": "code",
   "execution_count": null,
   "outputs": [],
   "source": [
    "df_opt = pd.DataFrame([[(1, 1), (2, 2)], [(2, 1), (1, 2)], [(2, 3), (1, 3)]], index=list_r)\n",
    "df_opt"
   ],
   "metadata": {
    "collapsed": false,
    "pycharm": {
     "name": "#%%\n"
    }
   }
  },
  {
   "cell_type": "markdown",
   "source": [
    "## Séance 2"
   ],
   "metadata": {
    "collapsed": false
   }
  },
  {
   "cell_type": "code",
   "execution_count": null,
   "outputs": [],
   "source": [
    "stock = np.zeros(nb_machines)\n",
    "stock"
   ],
   "metadata": {
    "collapsed": false,
    "pycharm": {
     "name": "#%%\n"
    }
   }
  },
  {
   "cell_type": "code",
   "execution_count": null,
   "outputs": [],
   "source": [
    "repr_job = np.zeros((nb_jobs, nb_machines))\n",
    "repr_job"
   ],
   "metadata": {
    "collapsed": false,
    "pycharm": {
     "name": "#%%\n"
    }
   }
  },
  {
   "cell_type": "code",
   "execution_count": null,
   "outputs": [],
   "source": [
    "i,c = df.isin([(1,1)])\n",
    "print (df.index[i], df.columns[c])"
   ],
   "metadata": {
    "collapsed": false,
    "pycharm": {
     "name": "#%%\n"
    }
   }
  },
  {
   "cell_type": "code",
   "execution_count": null,
   "outputs": [],
   "source": [
    "t = (2,1)\n",
    "c = df.columns[df.isin([t]).any()].tolist()[0]\n",
    "i = df.index[df[c].isin([t])].tolist()[0]\n",
    "c,i"
   ],
   "metadata": {
    "collapsed": false,
    "pycharm": {
     "name": "#%%\n"
    }
   }
  },
  {
   "cell_type": "code",
   "execution_count": null,
   "outputs": [],
   "source": [
    "def index_col(tupl, df):\n",
    "    c = df.columns[df.isin([t]).any()].tolist()[0]\n",
    "    str_i = df.index[df[c].isin([t])].tolist()[0]\n",
    "    index = str_i.replace(\"r\", \"\")\n",
    "    index = int(index)\n",
    "    return str_i, index-1, c"
   ],
   "metadata": {
    "collapsed": false,
    "pycharm": {
     "name": "#%%\n"
    }
   }
  },
  {
   "cell_type": "code",
   "execution_count": null,
   "outputs": [],
   "source": [
    "print(df_sol)\n",
    "print(durations)"
   ],
   "metadata": {
    "collapsed": false,
    "pycharm": {
     "name": "#%%\n"
    }
   }
  },
  {
   "cell_type": "code",
   "execution_count": null,
   "outputs": [],
   "source": [
    "# stock = np.zeros(nb_machines)\n",
    "repr_job = np.zeros((nb_jobs, nb_machines))\n",
    "counter_job = np.zeros(nb_jobs)\n",
    "counter_ress = np.zeros(nb_machines)\n",
    "ready_job = np.zeros(nb_jobs)\n",
    "ready_ress = np.zeros(nb_machines)\n",
    "\n",
    "while any(x != nb_jobs for x in counter_ress):\n",
    "    for job in range(1, nb_jobs+1):\n",
    "        for op in range(1, nb_machines+1):\n",
    "#             print(\"============================\")\n",
    "            t = (job,op)\n",
    "#             print(t)\n",
    "            ind, ressource, col =  index_col(t, df_opt)\n",
    "#             print(\"DF : index : \" + ind + \" colonne \" +str(col))\n",
    "#             print(counter_job[job-1])\n",
    "#             print(counter_ress[ressource])\n",
    "            if((col == counter_ress[ressource])&(op-1 == counter_job[job-1])):\n",
    "    \n",
    "#                 print(\"job prêt : \" + str(ready_job))\n",
    "#                 print(\"ressource prête : \" + str(ready_ress))\n",
    "#                 print(\"DO job \"+str(job)+ \"/ op \"+ str(op))\n",
    "                \n",
    "#                 if counter_job[job-1] == 0:         Verify if operation == 0\n",
    "#                     repr_job[job-1][op-1] = 0\n",
    "#                 else:\n",
    "#                 print(\"ressource duration : \" + str(ready_ress[ressource]))\n",
    "#                 print(\"job duration : \" + str(ready_job[job-1]))\n",
    "                repr_job[job-1][op-1] =  max(ready_job[job-1], ready_ress[ressource])\n",
    "                \n",
    "                \n",
    "                ready_ress[ressource] = ready_ress[ressource] + durations[job-1, op-1] + ready_job[job-1]\n",
    "#                 ready_job[job-1] = ready_job[job-1] + durations[job-1, op-1]\n",
    "                ready_job[job-1] = repr_job[job-1][op-1] + + durations[job-1, op-1]\n",
    "#                 print(repr_job)\n",
    "                counter_ress[ressource]+=1\n",
    "                counter_job[job-1]+=1\n",
    "#                 print('état ressource :[%s]' % ', '.join(map(str, counter_ress)))\n",
    "#                 print('état job :[%s]' % ', '.join(map(str, counter_job)))\n",
    "#             else:\n",
    "#                 print(\"STOP job \"+str(job)+ \"/ op \"+ str(op))\n",
    "                \n",
    "\n",
    "print(repr_job)"
   ],
   "metadata": {
    "collapsed": false,
    "pycharm": {
     "name": "#%%\n"
    }
   }
  },
  {
   "cell_type": "code",
   "execution_count": null,
   "outputs": [],
   "source": [
    "list_jobs=[]\n",
    "[list_jobs.append('J'+str(x)) for x in range(1, nb_jobs+1)]\n",
    "list_jobs"
   ],
   "metadata": {
    "collapsed": false,
    "pycharm": {
     "name": "#%%\n"
    }
   }
  },
  {
   "cell_type": "code",
   "execution_count": null,
   "outputs": [],
   "source": [],
   "metadata": {
    "collapsed": false,
    "pycharm": {
     "name": "#%%\n"
    }
   }
  },
  {
   "cell_type": "code",
   "execution_count": null,
   "outputs": [],
   "source": [
    "df_repr_detail = pd.DataFrame(data=repr_job, index=list_jobs, columns=range(1,4))\n",
    "df_repr_detail"
   ],
   "metadata": {
    "collapsed": false,
    "pycharm": {
     "name": "#%%\n"
    }
   }
  },
  {
   "cell_type": "code",
   "execution_count": null,
   "outputs": [],
   "source": [
    "print(machines)\n",
    "print(durations)"
   ],
   "metadata": {
    "collapsed": false,
    "pycharm": {
     "name": "#%%\n"
    }
   }
  },
  {
   "cell_type": "code",
   "execution_count": null,
   "outputs": [],
   "source": [
    "list_gantt = []\n",
    "for i in range(nb_jobs):\n",
    "    for j in range(nb_machines):\n",
    "        list_gantt.append(['r' + str(machines[i,j]+1), \n",
    "                          str(today + timedelta(days=repr_job[i][j])),\n",
    "                              str(today +  timedelta(days=repr_job[i][j])+ timedelta(days=int(durations[i,j]))), \n",
    "                                  'Job'+str(i+1)])\n",
    "list_gantt"
   ],
   "metadata": {
    "collapsed": false,
    "pycharm": {
     "name": "#%%\n"
    }
   }
  },
  {
   "cell_type": "code",
   "execution_count": null,
   "outputs": [],
   "source": [
    "from plotly.figure_factory import create_gantt\n",
    "import pandas as pd\n",
    "from datetime import date\n",
    "from datetime import timedelta\n",
    "import datetime\n",
    "\n",
    "today = date.today()\n",
    "\n",
    "df = pd.DataFrame(list_gantt,\n",
    "                  columns=['Task', 'Start', 'Finish', 'Resource'])\n",
    "\n",
    "fig = create_gantt(df, index_col='Resource', show_colorbar=True,\n",
    "                      group_tasks=True)\n",
    "\n",
    "fig.show()"
   ],
   "metadata": {
    "collapsed": false,
    "pycharm": {
     "name": "#%%\n"
    }
   }
  },
  {
   "cell_type": "code",
   "execution_count": null,
   "outputs": [],
   "source": [
    " \n",
    "today + timedelta(days=1) "
   ],
   "metadata": {
    "collapsed": false,
    "pycharm": {
     "name": "#%%\n"
    }
   }
  },
  {
   "cell_type": "code",
   "execution_count": null,
   "outputs": [],
   "source": [
    " str(date.today() + timedelta(days=1))"
   ],
   "metadata": {
    "collapsed": false,
    "pycharm": {
     "name": "#%%\n"
    }
   }
  },
  {
   "cell_type": "code",
   "execution_count": null,
   "outputs": [],
   "source": [
    "all(x == 2 for x in foobars)"
   ],
   "metadata": {
    "collapsed": false,
    "pycharm": {
     "name": "#%%\n"
    }
   }
  },
  {
   "cell_type": "code",
   "execution_count": null,
   "outputs": [],
   "source": [
    "foobars = [2,2,2]"
   ],
   "metadata": {
    "collapsed": false,
    "pycharm": {
     "name": "#%%\n"
    }
   }
  },
  {
   "cell_type": "code",
   "execution_count": null,
   "outputs": [],
   "source": [
    "repr_job[i][0]"
   ],
   "metadata": {
    "collapsed": false,
    "pycharm": {
     "name": "#%%\n"
    }
   }
  },
  {
   "cell_type": "code",
   "execution_count": null,
   "outputs": [],
   "source": [
    "durations[1, 0]"
   ],
   "metadata": {
    "collapsed": false,
    "pycharm": {
     "name": "#%%\n"
    }
   }
  },
  {
   "cell_type": "code",
   "execution_count": null,
   "outputs": [],
   "source": [
    "durations"
   ],
   "metadata": {
    "collapsed": false,
    "pycharm": {
     "name": "#%%\n"
    }
   }
  },
  {
   "cell_type": "code",
   "execution_count": null,
   "outputs": [],
   "source": [
    "df.isin([(1,1)])\n",
    "df.index[df[c].isin([(1,3)])].tolist()"
   ],
   "metadata": {
    "collapsed": false,
    "pycharm": {
     "name": "#%%\n"
    }
   }
  },
  {
   "cell_type": "code",
   "execution_count": null,
   "outputs": [],
   "source": [
    "i, c = np.where(df == (1,1))\n",
    "\n",
    "print ((df.index[i].values, df.columns[c].values))"
   ],
   "metadata": {
    "collapsed": false,
    "pycharm": {
     "name": "#%%\n"
    }
   }
  },
  {
   "cell_type": "code",
   "execution_count": null,
   "outputs": [],
   "source": [
    "a = df.iloc[0].values\n",
    "for t in a:\n",
    "    if(t[1] == 1):\n",
    "        b = t\n",
    "b"
   ],
   "metadata": {
    "collapsed": false,
    "pycharm": {
     "name": "#%%\n"
    }
   }
  },
  {
   "cell_type": "code",
   "execution_count": null,
   "outputs": [],
   "source": [
    "print(a)"
   ],
   "metadata": {
    "collapsed": false,
    "pycharm": {
     "name": "#%%\n"
    }
   }
  },
  {
   "cell_type": "code",
   "execution_count": null,
   "outputs": [],
   "source": [
    "df[0].values"
   ],
   "metadata": {
    "collapsed": false,
    "pycharm": {
     "name": "#%%\n"
    }
   }
  },
  {
   "cell_type": "code",
   "execution_count": null,
   "outputs": [],
   "source": [],
   "metadata": {
    "collapsed": false,
    "pycharm": {
     "name": "#%%\n"
    }
   }
  }
 ],
 "metadata": {
  "kernelspec": {
   "display_name": "Python 3",
   "language": "python",
   "name": "python3"
  },
  "language_info": {
   "codemirror_mode": {
    "name": "ipython",
    "version": 3
   },
   "file_extension": ".py",
   "mimetype": "text/x-python",
   "name": "python",
   "nbconvert_exporter": "python",
   "pygments_lexer": "ipython3",
   "version": "3.7.9"
  },
  "pycharm": {
   "stem_cell": {
    "cell_type": "raw",
    "source": [],
    "metadata": {
     "collapsed": false
    }
   }
  }
 },
 "nbformat": 4,
 "nbformat_minor": 4
}