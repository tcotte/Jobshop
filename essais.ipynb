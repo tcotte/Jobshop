{
 "cells": [
  {
   "cell_type": "code",
   "execution_count": 16,
   "metadata": {},
   "outputs": [
    {
     "name": "stdout",
     "output_type": "stream",
     "text": [
      "[[2, 3], [0, 3, 1, 3, 2, 2], [1, 2, 0, 2, 2, 4]]\n",
      "2\n",
      "3\n"
     ]
    }
   ],
   "source": [
    "import numpy as np\n",
    "\n",
    "f = open(\"instances/aaa1\", \"r\")\n",
    "content = f.read()\n",
    "f.close()\n",
    "#print(content)\n",
    "\n",
    "lines = content.split(\"\\n\")\n",
    "\n",
    "array = []\n",
    "\n",
    "for line in lines:\n",
    "    if line.startswith('#'): # filter lines of comment\n",
    "        pass\n",
    "    else :\n",
    "        numbers = line.split(\" \") \n",
    "        while numbers.count('') >0:\n",
    "            numbers.remove('')\n",
    "        for j in range(len(numbers)):\n",
    "            numbers[j] = int(numbers[j])\n",
    "\n",
    "        if numbers != []:\n",
    "            array.append(numbers)\n",
    "\n",
    "print(array)\n",
    "\n",
    "nb_jobs = array[0][0] #number of jobs\n",
    "nb_machines = array[0][1] #number of machines\n",
    "\n",
    "print(nb_jobs)\n",
    "print(nb_machines)"
   ]
  },
  {
   "cell_type": "code",
   "execution_count": 17,
   "metadata": {
    "scrolled": true
   },
   "outputs": [
    {
     "name": "stdout",
     "output_type": "stream",
     "text": [
      "[[0 1 2]\n",
      " [1 0 2]]\n"
     ]
    }
   ],
   "source": [
    "machines = np.matrix(array[1:])[:,::2]\n",
    "print(machines)"
   ]
  },
  {
   "cell_type": "code",
   "execution_count": 18,
   "metadata": {
    "scrolled": true
   },
   "outputs": [
    {
     "name": "stdout",
     "output_type": "stream",
     "text": [
      "[[3 3 2]\n",
      " [2 2 4]]\n"
     ]
    }
   ],
   "source": [
    "durations = np.matrix(array[1:])[:,1::2]\n",
    "print(durations)"
   ]
  },
  {
   "cell_type": "code",
   "execution_count": 19,
   "metadata": {},
   "outputs": [],
   "source": [
    "naive_makespan = np.sum(durations)"
   ]
  },
  {
   "cell_type": "code",
   "execution_count": 26,
   "metadata": {},
   "outputs": [
    {
     "data": {
      "text/plain": [
       "['r1', 'r2', 'r3']"
      ]
     },
     "execution_count": 26,
     "metadata": {},
     "output_type": "execute_result"
    }
   ],
   "source": [
    "list_r = []\n",
    "for i in range(nb_machines):\n",
    "    list_r.append(\"r\"+str(i+1))\n",
    "\n",
    "list_r"
   ]
  },
  {
   "cell_type": "code",
   "execution_count": 174,
   "metadata": {},
   "outputs": [
    {
     "data": {
      "text/plain": [
       "[[1, 2], [1, 2], [1, 2]]"
      ]
     },
     "execution_count": 174,
     "metadata": {},
     "output_type": "execute_result"
    }
   ],
   "source": [
    "from numpy.random import default_rng\n",
    "\n",
    "list_solution = []\n",
    "\n",
    "for i in range(nb_machines):\n",
    "    rng = default_rng()\n",
    "    list_ressource = rng.choice((1,nb_jobs), size=nb_jobs, replace=False).tolist()\n",
    "    list_solution.append(list_ressource)\n",
    "    \n",
    "list_solution"
   ]
  },
  {
   "cell_type": "code",
   "execution_count": 198,
   "metadata": {},
   "outputs": [
    {
     "data": {
      "text/plain": [
       "[(1, 1), (2, 2), (1, 2), (2, 1), (1, 3), (2, 3)]"
      ]
     },
     "execution_count": 198,
     "metadata": {},
     "output_type": "execute_result"
    }
   ],
   "source": [
    "list_tuples = []\n",
    "l = []\n",
    "\n",
    "for i in range(len(list_solution)):\n",
    "    for j in range(nb_jobs):\n",
    "        job_number = list_solution[i][j]\n",
    "        operation = machines[job_number-1,i]+1\n",
    "#         print(job_number, operation)\n",
    "        t = (job_number, operation)\n",
    "        list_tuples.append(t)\n",
    "        \n",
    "list_tuples"
   ]
  },
  {
   "cell_type": "code",
   "execution_count": 201,
   "metadata": {},
   "outputs": [
    {
     "data": {
      "text/plain": [
       "[[(1, 1), (2, 2)], [(1, 2), (2, 1)], [(1, 3), (2, 3)]]"
      ]
     },
     "execution_count": 201,
     "metadata": {},
     "output_type": "execute_result"
    }
   ],
   "source": [
    "\n",
    "l = []\n",
    "\n",
    "for i in range(len(list_solution)):\n",
    "    list_tuples = []\n",
    "    for j in range(nb_jobs):\n",
    "        job_number = list_solution[i][j]\n",
    "        operation = machines[job_number-1,i]+1\n",
    "#         print(job_number, operation)\n",
    "        t = (job_number, operation)\n",
    "        list_tuples.append(t)\n",
    "    l.append(list_tuples)\n",
    "\n",
    "l"
   ]
  },
  {
   "cell_type": "code",
   "execution_count": 191,
   "metadata": {},
   "outputs": [
    {
     "data": {
      "text/plain": [
       "0"
      ]
     },
     "execution_count": 191,
     "metadata": {},
     "output_type": "execute_result"
    }
   ],
   "source": [
    "machines[0,0]"
   ]
  },
  {
   "cell_type": "code",
   "execution_count": 175,
   "metadata": {},
   "outputs": [
    {
     "data": {
      "text/plain": [
       "3"
      ]
     },
     "execution_count": 175,
     "metadata": {},
     "output_type": "execute_result"
    }
   ],
   "source": [
    "len(list_solution)"
   ]
  },
  {
   "cell_type": "code",
   "execution_count": 207,
   "metadata": {},
   "outputs": [
    {
     "data": {
      "text/html": [
       "<div>\n",
       "<style scoped>\n",
       "    .dataframe tbody tr th:only-of-type {\n",
       "        vertical-align: middle;\n",
       "    }\n",
       "\n",
       "    .dataframe tbody tr th {\n",
       "        vertical-align: top;\n",
       "    }\n",
       "\n",
       "    .dataframe thead th {\n",
       "        text-align: right;\n",
       "    }\n",
       "</style>\n",
       "<table border=\"1\" class=\"dataframe\">\n",
       "  <thead>\n",
       "    <tr style=\"text-align: right;\">\n",
       "      <th></th>\n",
       "      <th>0</th>\n",
       "      <th>1</th>\n",
       "    </tr>\n",
       "  </thead>\n",
       "  <tbody>\n",
       "    <tr>\n",
       "      <th>r1</th>\n",
       "      <td>(1, 1)</td>\n",
       "      <td>(2, 2)</td>\n",
       "    </tr>\n",
       "    <tr>\n",
       "      <th>r2</th>\n",
       "      <td>(1, 2)</td>\n",
       "      <td>(2, 1)</td>\n",
       "    </tr>\n",
       "    <tr>\n",
       "      <th>r3</th>\n",
       "      <td>(1, 3)</td>\n",
       "      <td>(2, 3)</td>\n",
       "    </tr>\n",
       "  </tbody>\n",
       "</table>\n",
       "</div>"
      ],
      "text/plain": [
       "         0       1\n",
       "r1  (1, 1)  (2, 2)\n",
       "r2  (1, 2)  (2, 1)\n",
       "r3  (1, 3)  (2, 3)"
      ]
     },
     "execution_count": 207,
     "metadata": {},
     "output_type": "execute_result"
    }
   ],
   "source": [
    "import pandas as pd\n",
    "df = pd.DataFrame(l, index=list_r)\n",
    "df"
   ]
  }
 ],
 "metadata": {
  "kernelspec": {
   "display_name": "Python 3",
   "language": "python",
   "name": "python3"
  },
  "language_info": {
   "codemirror_mode": {
    "name": "ipython",
    "version": 3
   },
   "file_extension": ".py",
   "mimetype": "text/x-python",
   "name": "python",
   "nbconvert_exporter": "python",
   "pygments_lexer": "ipython3",
   "version": "3.7.7"
  }
 },
 "nbformat": 4,
 "nbformat_minor": 4
}
