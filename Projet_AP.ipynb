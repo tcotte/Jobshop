{
 "cells": [
  {
   "cell_type": "code",
   "execution_count": 1,
   "metadata": {},
   "outputs": [],
   "source": [
    "#from config import setup\n",
    "#setup()"
   ]
  },
  {
   "cell_type": "code",
   "execution_count": 2,
   "metadata": {},
   "outputs": [],
   "source": [
    "#!pip uninstall config"
   ]
  },
  {
   "cell_type": "code",
   "execution_count": 3,
   "metadata": {},
   "outputs": [],
   "source": [
    "import numpy as np\n",
    "from docplex.cp.model import CpoModel\n",
    "from docplex.cp.parameters import CpoParameters"
   ]
  },
  {
   "cell_type": "code",
   "execution_count": 4,
   "metadata": {},
   "outputs": [],
   "source": [
    "#!git clone https://github.com/tamy0612/JSPLIB/tree/master/instances\n",
    "    \n",
    "import os\n",
    "f_list = os.listdir('instances/')\n",
    "file_list =[]\n",
    "for f in f_list:\n",
    "    f = \"instances/\"+f\n",
    "    file_list.append(f)\n",
    "    \n",
    "#print(file_list)"
   ]
  },
  {
   "cell_type": "code",
   "execution_count": 5,
   "metadata": {},
   "outputs": [],
   "source": [
    "def cplex_makespan_model(n: int, m: int, durations, machines) -> CpoModel:\n",
    "    # n number of jobs, m machines\n",
    "    # 1 line for un job with tasks on m machines\n",
    "       \n",
    "    naive = np.sum(durations)\n",
    "    \n",
    "    mdl = CpoModel()\n",
    "    \n",
    "    #Une variable est l'intervalle de durée pour une tache \n",
    "    x = [[mdl.interval_var(size=durations[i,j], name=\"O{}-{}\".format(i, j)) for j in range(m)] for i in range(n)]\n",
    "    \n",
    "    #contrainte end max d'une tache calculée avant\n",
    "    for i in range(n): \n",
    "        for j in range(m):\n",
    "            mdl.add(mdl.end_of(x[i][j]) <= naive)\n",
    "            \n",
    "    #precedence\n",
    "    for i in range(n): #for each job\n",
    "        for j in range(m-1): #taches ordonnées\n",
    "            mdl.add(mdl.end_before_start(x[i][j], x[i][j+1]))\n",
    "     \n",
    "    # une machine ne peut faire qu'une tache à la fois\n",
    "    listtaches = [[] for k in range(m)]\n",
    "    for i in range(n):\n",
    "        for j in range(m):\n",
    "            listtaches[machines[i,j]].append(x[i][j])\n",
    "\n",
    "    for k in range(m):\n",
    "        mdl.add(mdl.no_overlap(listtaches[k]))\n",
    "\n",
    "    \n",
    "    makespan = mdl.integer_var(0,naive) \n",
    "    # le makespan est le max des tps pour chaque job\n",
    "    mdl.add( makespan == mdl.max([mdl.end_of(x[i][m-1]) for i in range(n)]))\n",
    "    \n",
    "    mdl.add(mdl.minimize(makespan))\n",
    "    \n",
    "    return mdl, x"
   ]
  },
  {
   "cell_type": "code",
   "execution_count": 6,
   "metadata": {},
   "outputs": [],
   "source": [
    "def cplex_solve_instance2 (filename, start,searchtype, interference, timelimit):\n",
    "\n",
    "    f = open(filename, \"r\")\n",
    "    content = f.read()\n",
    "    f.close()\n",
    "    #print(content)\n",
    "    lines = content.split(\"\\n\")\n",
    "\n",
    "    array = []\n",
    "\n",
    "    for i in lines[start:]:\n",
    "        numbers = i.split(\" \")\n",
    "        while numbers.count('') >0:\n",
    "            numbers.remove('')\n",
    "        for j in range(len(numbers)):\n",
    "            numbers[j] = int(numbers[j])\n",
    "        #print(numbers)\n",
    "        if numbers != []:\n",
    "            array.append(numbers)\n",
    "\n",
    "    n = array[0][0] #number of jobs\n",
    "    m = array[0][1] #number of machines\n",
    "\n",
    "    machines = np.matrix(array[1:])[:,::2]\n",
    "    \n",
    "    durations = np.matrix(array[1:])[:,1::2]\n",
    "\n",
    "\n",
    "    mdl, x = cplex_makespan_model(n, m, durations, machines)\n",
    "    \n",
    "    sol = mdl.start_search(TimeLimit=timelimit, SearchType= searchtype, DefaultInferenceLevel=interference).solve()\n",
    "    #sol.print_solution()\n",
    "    #display_sol (sol)\n",
    "    \n",
    "    return sol\n",
    "\n"
   ]
  },
  {
   "cell_type": "code",
   "execution_count": 7,
   "metadata": {},
   "outputs": [
    {
     "ename": "CpoSolverException",
     "evalue": "Solver error: Worker 0 raised exception: No more memory..",
     "output_type": "error",
     "traceback": [
      "\u001b[1;31m---------------------------------------------------------------------------\u001b[0m",
      "\u001b[1;31mCpoSolverException\u001b[0m                        Traceback (most recent call last)",
      "\u001b[1;32m<ipython-input-7-6601601e968d>\u001b[0m in \u001b[0;36m<module>\u001b[1;34m\u001b[0m\n\u001b[0;32m     32\u001b[0m \u001b[1;33m\u001b[0m\u001b[0m\n\u001b[0;32m     33\u001b[0m         \u001b[1;32mif\u001b[0m \u001b[0mfilename\u001b[0m \u001b[1;32mnot\u001b[0m \u001b[1;32min\u001b[0m \u001b[0mdone1\u001b[0m\u001b[1;33m:\u001b[0m\u001b[1;33m\u001b[0m\u001b[1;33m\u001b[0m\u001b[0m\n\u001b[1;32m---> 34\u001b[1;33m             \u001b[0ms1\u001b[0m \u001b[1;33m=\u001b[0m \u001b[0mcplex_solve_instance2\u001b[0m \u001b[1;33m(\u001b[0m\u001b[0mfilename\u001b[0m\u001b[1;33m,\u001b[0m \u001b[1;36m4\u001b[0m\u001b[1;33m,\u001b[0m \u001b[0msearchtype\u001b[0m\u001b[1;33m,\u001b[0m \u001b[0minterference1\u001b[0m\u001b[1;33m,\u001b[0m \u001b[0mt\u001b[0m\u001b[1;33m)\u001b[0m \u001b[1;31m# we start at line 4 to parse due to the instance format\u001b[0m\u001b[1;33m\u001b[0m\u001b[1;33m\u001b[0m\u001b[0m\n\u001b[0m\u001b[0;32m     35\u001b[0m             \u001b[0msol1\u001b[0m\u001b[1;33m.\u001b[0m\u001b[0mappend\u001b[0m\u001b[1;33m(\u001b[0m\u001b[0ms1\u001b[0m\u001b[1;33m)\u001b[0m\u001b[1;33m\u001b[0m\u001b[1;33m\u001b[0m\u001b[0m\n\u001b[0;32m     36\u001b[0m             \u001b[0mnodes1\u001b[0m\u001b[1;33m.\u001b[0m\u001b[0mappend\u001b[0m\u001b[1;33m(\u001b[0m\u001b[0msol1\u001b[0m\u001b[1;33m[\u001b[0m\u001b[1;33m-\u001b[0m\u001b[1;36m1\u001b[0m\u001b[1;33m]\u001b[0m\u001b[1;33m.\u001b[0m\u001b[0mget_solver_infos\u001b[0m\u001b[1;33m(\u001b[0m\u001b[1;33m)\u001b[0m\u001b[1;33m[\u001b[0m\u001b[1;34m\"NumberOfChoicePoints\"\u001b[0m\u001b[1;33m]\u001b[0m\u001b[1;33m)\u001b[0m\u001b[1;33m\u001b[0m\u001b[1;33m\u001b[0m\u001b[0m\n",
      "\u001b[1;32m<ipython-input-6-69fbfe70440f>\u001b[0m in \u001b[0;36mcplex_solve_instance2\u001b[1;34m(filename, start, searchtype, interference, timelimit)\u001b[0m\n\u001b[0;32m     29\u001b[0m     \u001b[0mmdl\u001b[0m\u001b[1;33m,\u001b[0m \u001b[0mx\u001b[0m \u001b[1;33m=\u001b[0m \u001b[0mcplex_makespan_model\u001b[0m\u001b[1;33m(\u001b[0m\u001b[0mn\u001b[0m\u001b[1;33m,\u001b[0m \u001b[0mm\u001b[0m\u001b[1;33m,\u001b[0m \u001b[0mdurations\u001b[0m\u001b[1;33m,\u001b[0m \u001b[0mmachines\u001b[0m\u001b[1;33m)\u001b[0m\u001b[1;33m\u001b[0m\u001b[1;33m\u001b[0m\u001b[0m\n\u001b[0;32m     30\u001b[0m \u001b[1;33m\u001b[0m\u001b[0m\n\u001b[1;32m---> 31\u001b[1;33m     \u001b[0msol\u001b[0m \u001b[1;33m=\u001b[0m \u001b[0mmdl\u001b[0m\u001b[1;33m.\u001b[0m\u001b[0mstart_search\u001b[0m\u001b[1;33m(\u001b[0m\u001b[0mTimeLimit\u001b[0m\u001b[1;33m=\u001b[0m\u001b[0mtimelimit\u001b[0m\u001b[1;33m,\u001b[0m \u001b[0mSearchType\u001b[0m\u001b[1;33m=\u001b[0m \u001b[0msearchtype\u001b[0m\u001b[1;33m,\u001b[0m \u001b[0mDefaultInferenceLevel\u001b[0m\u001b[1;33m=\u001b[0m\u001b[0minterference\u001b[0m\u001b[1;33m)\u001b[0m\u001b[1;33m.\u001b[0m\u001b[0msolve\u001b[0m\u001b[1;33m(\u001b[0m\u001b[1;33m)\u001b[0m\u001b[1;33m\u001b[0m\u001b[1;33m\u001b[0m\u001b[0m\n\u001b[0m\u001b[0;32m     32\u001b[0m     \u001b[1;31m#sol.print_solution()\u001b[0m\u001b[1;33m\u001b[0m\u001b[1;33m\u001b[0m\u001b[1;33m\u001b[0m\u001b[0m\n\u001b[0;32m     33\u001b[0m     \u001b[1;31m#display_sol (sol)\u001b[0m\u001b[1;33m\u001b[0m\u001b[1;33m\u001b[0m\u001b[1;33m\u001b[0m\u001b[0m\n",
      "\u001b[1;32mC:\\ProgramData\\Anaconda3\\Lib\\site-packages\\docplex\\cp\\solver\\solver.py\u001b[0m in \u001b[0;36msolve\u001b[1;34m(self)\u001b[0m\n\u001b[0;32m    608\u001b[0m             \u001b[1;32mif\u001b[0m \u001b[0mself\u001b[0m\u001b[1;33m.\u001b[0m\u001b[0mcontext\u001b[0m\u001b[1;33m.\u001b[0m\u001b[0mlog_exceptions\u001b[0m\u001b[1;33m:\u001b[0m\u001b[1;33m\u001b[0m\u001b[1;33m\u001b[0m\u001b[0m\n\u001b[0;32m    609\u001b[0m                 \u001b[0mtraceback\u001b[0m\u001b[1;33m.\u001b[0m\u001b[0mprint_exc\u001b[0m\u001b[1;33m(\u001b[0m\u001b[1;33m)\u001b[0m\u001b[1;33m\u001b[0m\u001b[1;33m\u001b[0m\u001b[0m\n\u001b[1;32m--> 610\u001b[1;33m             \u001b[1;32mraise\u001b[0m \u001b[0me\u001b[0m\u001b[1;33m\u001b[0m\u001b[1;33m\u001b[0m\u001b[0m\n\u001b[0m\u001b[0;32m    611\u001b[0m         \u001b[0mself\u001b[0m\u001b[1;33m.\u001b[0m\u001b[0m_set_status\u001b[0m\u001b[1;33m(\u001b[0m\u001b[0mSTATUS_IDLE\u001b[0m\u001b[1;33m)\u001b[0m\u001b[1;33m\u001b[0m\u001b[1;33m\u001b[0m\u001b[0m\n\u001b[0;32m    612\u001b[0m         \u001b[0mstime\u001b[0m \u001b[1;33m=\u001b[0m \u001b[0mtime\u001b[0m\u001b[1;33m.\u001b[0m\u001b[0mtime\u001b[0m\u001b[1;33m(\u001b[0m\u001b[1;33m)\u001b[0m \u001b[1;33m-\u001b[0m \u001b[0mstime\u001b[0m\u001b[1;33m\u001b[0m\u001b[1;33m\u001b[0m\u001b[0m\n",
      "\u001b[1;32mC:\\ProgramData\\Anaconda3\\Lib\\site-packages\\docplex\\cp\\solver\\solver.py\u001b[0m in \u001b[0;36msolve\u001b[1;34m(self)\u001b[0m\n\u001b[0;32m    601\u001b[0m         \u001b[0mself\u001b[0m\u001b[1;33m.\u001b[0m\u001b[0m_set_status\u001b[0m\u001b[1;33m(\u001b[0m\u001b[0mSTATUS_SOLVING\u001b[0m\u001b[1;33m)\u001b[0m\u001b[1;33m\u001b[0m\u001b[1;33m\u001b[0m\u001b[0m\n\u001b[0;32m    602\u001b[0m         \u001b[1;32mtry\u001b[0m\u001b[1;33m:\u001b[0m\u001b[1;33m\u001b[0m\u001b[1;33m\u001b[0m\u001b[0m\n\u001b[1;32m--> 603\u001b[1;33m             \u001b[0mmsol\u001b[0m \u001b[1;33m=\u001b[0m \u001b[0mself\u001b[0m\u001b[1;33m.\u001b[0m\u001b[0magent\u001b[0m\u001b[1;33m.\u001b[0m\u001b[0msolve\u001b[0m\u001b[1;33m(\u001b[0m\u001b[1;33m)\u001b[0m\u001b[1;33m\u001b[0m\u001b[1;33m\u001b[0m\u001b[0m\n\u001b[0m\u001b[0;32m    604\u001b[0m         \u001b[1;32mexcept\u001b[0m \u001b[0mException\u001b[0m \u001b[1;32mas\u001b[0m \u001b[0me\u001b[0m\u001b[1;33m:\u001b[0m\u001b[1;33m\u001b[0m\u001b[1;33m\u001b[0m\u001b[0m\n\u001b[0;32m    605\u001b[0m             \u001b[1;31m# Check if aborted in the mean time\u001b[0m\u001b[1;33m\u001b[0m\u001b[1;33m\u001b[0m\u001b[1;33m\u001b[0m\u001b[0m\n",
      "\u001b[1;32mC:\\ProgramData\\Anaconda3\\Lib\\site-packages\\docplex\\cp\\solver\\solver_local.py\u001b[0m in \u001b[0;36msolve\u001b[1;34m(self)\u001b[0m\n\u001b[0;32m    185\u001b[0m \u001b[1;33m\u001b[0m\u001b[0m\n\u001b[0;32m    186\u001b[0m         \u001b[1;31m# Wait JSON result\u001b[0m\u001b[1;33m\u001b[0m\u001b[1;33m\u001b[0m\u001b[1;33m\u001b[0m\u001b[0m\n\u001b[1;32m--> 187\u001b[1;33m         \u001b[0mjsol\u001b[0m \u001b[1;33m=\u001b[0m \u001b[0mself\u001b[0m\u001b[1;33m.\u001b[0m\u001b[0m_wait_json_result\u001b[0m\u001b[1;33m(\u001b[0m\u001b[0mEVT_SOLVE_RESULT\u001b[0m\u001b[1;33m)\u001b[0m\u001b[1;33m\u001b[0m\u001b[1;33m\u001b[0m\u001b[0m\n\u001b[0m\u001b[0;32m    188\u001b[0m \u001b[1;33m\u001b[0m\u001b[0m\n\u001b[0;32m    189\u001b[0m         \u001b[1;31m# Build result object\u001b[0m\u001b[1;33m\u001b[0m\u001b[1;33m\u001b[0m\u001b[1;33m\u001b[0m\u001b[0m\n",
      "\u001b[1;32mC:\\ProgramData\\Anaconda3\\Lib\\site-packages\\docplex\\cp\\solver\\solver_local.py\u001b[0m in \u001b[0;36m_wait_json_result\u001b[1;34m(self, evt)\u001b[0m\n\u001b[0;32m    465\u001b[0m \u001b[1;33m\u001b[0m\u001b[0m\n\u001b[0;32m    466\u001b[0m         \u001b[1;31m# Wait JSON result\u001b[0m\u001b[1;33m\u001b[0m\u001b[1;33m\u001b[0m\u001b[1;33m\u001b[0m\u001b[0m\n\u001b[1;32m--> 467\u001b[1;33m         \u001b[0mdata\u001b[0m \u001b[1;33m=\u001b[0m \u001b[0mself\u001b[0m\u001b[1;33m.\u001b[0m\u001b[0m_wait_event\u001b[0m\u001b[1;33m(\u001b[0m\u001b[0mevt\u001b[0m\u001b[1;33m)\u001b[0m\u001b[1;33m\u001b[0m\u001b[1;33m\u001b[0m\u001b[0m\n\u001b[0m\u001b[0;32m    468\u001b[0m \u001b[1;33m\u001b[0m\u001b[0m\n\u001b[0;32m    469\u001b[0m         \u001b[1;31m# Store last json result\u001b[0m\u001b[1;33m\u001b[0m\u001b[1;33m\u001b[0m\u001b[1;33m\u001b[0m\u001b[0m\n",
      "\u001b[1;32mC:\\ProgramData\\Anaconda3\\Lib\\site-packages\\docplex\\cp\\solver\\solver_local.py\u001b[0m in \u001b[0;36m_wait_event\u001b[1;34m(self, xevt)\u001b[0m\n\u001b[0;32m    441\u001b[0m                     \u001b[0mdata\u001b[0m \u001b[1;33m+=\u001b[0m \u001b[1;34m\" (\"\u001b[0m \u001b[1;33m+\u001b[0m \u001b[0mfirsterror\u001b[0m \u001b[1;33m+\u001b[0m \u001b[1;34m\")\"\u001b[0m\u001b[1;33m\u001b[0m\u001b[1;33m\u001b[0m\u001b[0m\n\u001b[0;32m    442\u001b[0m                 \u001b[0mself\u001b[0m\u001b[1;33m.\u001b[0m\u001b[0mend\u001b[0m\u001b[1;33m(\u001b[0m\u001b[1;33m)\u001b[0m\u001b[1;33m\u001b[0m\u001b[1;33m\u001b[0m\u001b[0m\n\u001b[1;32m--> 443\u001b[1;33m                 \u001b[1;32mraise\u001b[0m \u001b[0mCpoSolverException\u001b[0m\u001b[1;33m(\u001b[0m\u001b[1;34m\"Solver error: \"\u001b[0m \u001b[1;33m+\u001b[0m \u001b[0mdata\u001b[0m\u001b[1;33m)\u001b[0m\u001b[1;33m\u001b[0m\u001b[1;33m\u001b[0m\u001b[0m\n\u001b[0m\u001b[0;32m    444\u001b[0m \u001b[1;33m\u001b[0m\u001b[0m\n\u001b[0;32m    445\u001b[0m             \u001b[1;32melif\u001b[0m \u001b[0mevt\u001b[0m \u001b[1;33m==\u001b[0m \u001b[0mEVT_CALLBACK_EVENT\u001b[0m\u001b[1;33m:\u001b[0m\u001b[1;33m\u001b[0m\u001b[1;33m\u001b[0m\u001b[0m\n",
      "\u001b[1;31mCpoSolverException\u001b[0m: Solver error: Worker 0 raised exception: No more memory.."
     ]
    }
   ],
   "source": [
    "#extrait du TP de PPC, permet de regarder les perfs avec CPLEX (à comparer avec métaheuristique après)\n",
    "\n",
    "searchtype = \"Restart\"\n",
    "interference1 = \"Low\"\n",
    "interference2 = \"Extended\"\n",
    "params = CpoParameters(TimeLimit=10, LogPeriod=100000)\n",
    "\n",
    "\n",
    "sol1=[]\n",
    "nodes1=[]\n",
    "runtime1=[]\n",
    "\n",
    "sol2=[]\n",
    "nodes2=[]\n",
    "runtime2=[]\n",
    "\n",
    "\n",
    "times = [0.2,0.5,0.8,1.1,1.5,2,2.5,3,4,5,6,7,8,10]\n",
    "nb1=[]\n",
    "nb2=[]\n",
    "\n",
    "nb11=0\n",
    "nb22=0\n",
    "\n",
    "done1 = []\n",
    "done2 =[]\n",
    "\n",
    "#file_list = file_list[0:5] #for quick tests\n",
    "\n",
    "for t in times:\n",
    "    #on va tester la resolutin avec des timetimits différents\n",
    "    for filename in file_list[:5]: #:5 for tests\n",
    "        #print(filename)\n",
    "        \n",
    "        if filename not in done1:\n",
    "            s1 = cplex_solve_instance2 (filename, 4, searchtype, interference1, t) # we start at line 4 to parse due to the instance format\n",
    "            sol1.append(s1)\n",
    "            nodes1.append(sol1[-1].get_solver_infos()[\"NumberOfChoicePoints\"])\n",
    "            runtime1.append(sol1[-1].get_solver_infos()[\"TotalTime\"])\n",
    "            if sol1[-1].get_solver_infos()['SearchStatus']=='SearchCompleted':\n",
    "                nb11+=1\n",
    "                done1.append(filename)\n",
    "        \n",
    "        if filename not in done2:\n",
    "            s2 = cplex_solve_instance2 (filename, 4, searchtype, interference2, t) # we start at line 4 to parse due to the instance format\n",
    "            sol2.append(s2)\n",
    "            nodes2.append(sol2[-1].get_solver_infos()[\"NumberOfChoicePoints\"])\n",
    "            runtime2.append(sol2[-1].get_solver_infos()[\"TotalTime\"])\n",
    "            if sol2[-1].get_solver_infos()['SearchStatus']=='SearchCompleted':\n",
    "                nb22+=1\n",
    "                done2.append(filename)\n",
    "            \n",
    "            \n",
    "    nb1.append(nb11)\n",
    "    nb2.append(nb22)"
   ]
  },
  {
   "cell_type": "code",
   "execution_count": null,
   "metadata": {},
   "outputs": [],
   "source": [
    "import matplotlib.pyplot as plt2\n",
    "\n",
    "plt2.plot(times, nb1, 'r', label = \"interference Low\")\n",
    "plt2.plot(times, nb2, 'b', label = \"interference Extended\")\n",
    "plt2.xlabel('time limit')\n",
    "plt2.ylabel('number of instances solved')\n",
    "plt2.legend()\n",
    "plt2.show()"
   ]
  },
  {
   "cell_type": "markdown",
   "metadata": {},
   "source": [
    "1 // Implémentation de la représentation détaillée d'une solution à un problème de Job Shop (appelée Schedule)"
   ]
  },
  {
   "cell_type": "code",
   "execution_count": 8,
   "metadata": {},
   "outputs": [
    {
     "data": {
      "text/plain": [
       "'instances/abz5'"
      ]
     },
     "execution_count": 8,
     "metadata": {},
     "output_type": "execute_result"
    }
   ],
   "source": [
    "filename = file_list[0]\n",
    "filename\n",
    "#filename = 'aaa1'"
   ]
  },
  {
   "cell_type": "code",
   "execution_count": 9,
   "metadata": {},
   "outputs": [],
   "source": [
    "def generate_instance(filename, start):\n",
    "    f = open(filename, \"r\")\n",
    "    content = f.read()\n",
    "    f.close()\n",
    "    #print(content)\n",
    "    lines = content.split(\"\\n\")\n",
    "\n",
    "    array = []\n",
    "\n",
    "    for i in lines[start:]:\n",
    "        numbers = i.split(\" \")\n",
    "        while numbers.count('') >0:\n",
    "            numbers.remove('')\n",
    "        for j in range(len(numbers)):\n",
    "            numbers[j] = int(numbers[j])\n",
    "        #print(numbers)\n",
    "        if numbers != []:\n",
    "            array.append(numbers)\n",
    "\n",
    "    n = array[0][0] #number of jobs\n",
    "    m = array[0][1] #number of machines\n",
    "\n",
    "    machines = np.matrix(array[1:])[:,::2]\n",
    "    \n",
    "    durations = np.matrix(array[1:])[:,1::2]\n",
    "\n",
    "    return machines, durations, n, m\n",
    "\n",
    "machines, durations, n, m = generate_instance(filename, 4) #we start at line 4 due to instance shape"
   ]
  },
  {
   "cell_type": "code",
   "execution_count": 10,
   "metadata": {},
   "outputs": [
    {
     "name": "stdout",
     "output_type": "stream",
     "text": [
      "[[4 8 6 5 1 2 9 7 0 3]\n",
      " [5 3 6 4 2 8 0 1 7 9]\n",
      " [9 8 0 1 6 5 7 4 2 3]\n",
      " [7 2 1 4 3 6 5 0 9 8]\n",
      " [3 4 9 8 0 2 6 5 7 1]\n",
      " [1 4 5 6 8 2 7 9 3 0]\n",
      " [7 1 4 3 0 8 2 5 6 9]\n",
      " [4 6 3 2 1 5 7 0 8 9]\n",
      " [0 6 3 7 1 2 4 5 8 9]\n",
      " [3 0 1 8 7 9 6 4 5 2]]\n",
      "10\n",
      "10\n"
     ]
    }
   ],
   "source": [
    "print(machines)\n",
    "print(n)\n",
    "print(m)"
   ]
  },
  {
   "cell_type": "code",
   "execution_count": 11,
   "metadata": {},
   "outputs": [
    {
     "data": {
      "text/plain": [
       "9"
      ]
     },
     "execution_count": 11,
     "metadata": {},
     "output_type": "execute_result"
    }
   ],
   "source": [
    "machines[2,0]"
   ]
  },
  {
   "cell_type": "code",
   "execution_count": 12,
   "metadata": {},
   "outputs": [
    {
     "data": {
      "text/plain": [
       "[9, 4, 7, 8, 1, 5, 2, 6, 3, 0]"
      ]
     },
     "execution_count": 12,
     "metadata": {},
     "output_type": "execute_result"
    }
   ],
   "source": [
    "ex = np.random.permutation(10).tolist()\n",
    "ex"
   ]
  },
  {
   "cell_type": "code",
   "execution_count": 13,
   "metadata": {},
   "outputs": [],
   "source": [
    "#init avec job representation\n",
    "#permutation avec m valeures pour chaque job (n jobs)\n",
    "def init_job(n,m):\n",
    "    list_job = []\n",
    "    for i in range(n):\n",
    "        lis = [i] * m\n",
    "        list_job.extend(lis)\n",
    "\n",
    "    list_job = np.random.permutation(np.array(list_job))\n",
    "    list_job.tolist()\n",
    "    return list_job"
   ]
  },
  {
   "cell_type": "code",
   "execution_count": 14,
   "metadata": {},
   "outputs": [],
   "source": [
    "# une solution de type ordre de passage sur les ressources represente:\n",
    "# pour chaque machine l'odre dans lequel réaliser les diff op\n",
    "# matrice de taille m (nbre machine) * n (nombres de job)\n",
    "# sachant que chaque job contient exactement 1 operation par machine\n",
    "\n",
    "#solution random: on genere une matrice m*n avec des nombres compris entre 0 et n-1 dns chaque ligne\n",
    "#                sans duplicata et dans n'importe quel ordre au début\n",
    "\n",
    "def init_sol_resources(n,m, machines):\n",
    "    l = []\n",
    "    for i in range(m):\n",
    "        ligne = np.random.permutation(n).tolist()\n",
    "        l.append(ligne)\n",
    "    \n",
    "    #print(l)\n",
    "    \n",
    "    #on a une liste de m listes (taille n)\n",
    "    #on veut une liste de liste de tuple\n",
    "    #pour chaque tuple:\n",
    "    #  1er element numéro de job\n",
    "    #  2eme element numéro de la machines dans les op du job\n",
    "    \n",
    "    tupl_l = []\n",
    "    for i in range(m):\n",
    "        tupl_list = []\n",
    "        for j in range(n):\n",
    "            job = l[i][j]\n",
    "            ressource = i\n",
    "            for k in range(m) :\n",
    "                if machines[j,k] == i:\n",
    "                    n_op = k\n",
    "            tupl = (job, n_op)\n",
    "            tupl_list.append(tupl)\n",
    "        tupl_l.append(tupl_list)\n",
    "    \n",
    "    #print(tupl_l)\n",
    "    \n",
    "    return l, tupl_l\n",
    "\n",
    "l, tupl_l = init_sol_resources(n, m, machines)"
   ]
  },
  {
   "cell_type": "code",
   "execution_count": 15,
   "metadata": {},
   "outputs": [
    {
     "name": "stdout",
     "output_type": "stream",
     "text": [
      "[1 5 8 9 9 4 9 8 3 0 9 4 2 9 7 2 2 9 6 8 2 6 8 5 1 3 7 2 2 3 1 0 6 5 7 0 0\n",
      " 7 1 4 4 2 7 4 8 1 0 7 0 4 5 9 0 1 3 2 0 6 6 8 7 4 3 9 4 4 0 5 6 8 7 3 8 3\n",
      " 6 0 3 1 5 1 3 8 5 5 2 9 8 3 1 6 9 6 7 6 5 5 4 1 7 2]\n"
     ]
    }
   ],
   "source": [
    "# une solution de type ordre de passage sur les ressources represente:\n",
    "# pour chaque machine l'odre dans lequel réaliser les diff op\n",
    "# matrice de taille m (nbre machine) * n (nombres de job)\n",
    "# sachant que chaque job contient exactement 1 operation par machine\n",
    "\n",
    "#solution random mais sans cycle car issu de job representation\n",
    "\n",
    "def init_sol_resources_nocycle(n,m, machines):\n",
    "    \n",
    "    ressource = [[] for _ in range(m)] # matrice m*n\n",
    "    \n",
    "    list_job = init_job(n,m) #representation job aléatoire\n",
    "    print(list_job)\n",
    "    \n",
    "    #on stocke à quelle tache on en est pour chacun des n job (max = m)\n",
    "    state = [0]*n #au début 0 pour chaque mach\n",
    "    \n",
    "    for j in list_job:\n",
    "        #trouver la machine utilisée pour le job j à la kème tache (k=state[j])\n",
    "        mac = machines[j,state[j]]\n",
    "        #on peut remplir ressource\n",
    "        ressource[mac].append((j,state[j]))\n",
    "        \n",
    "        state[j]+=1      \n",
    "    \n",
    "    \n",
    "    return list_job, ressource\n",
    "\n",
    "list_job, ressource = init_sol_resources_nocycle(n, m, machines)"
   ]
  },
  {
   "cell_type": "code",
   "execution_count": 16,
   "metadata": {},
   "outputs": [],
   "source": [
    "#ressource"
   ]
  },
  {
   "cell_type": "code",
   "execution_count": 33,
   "metadata": {},
   "outputs": [],
   "source": [
    "# on va essayer de passer de la representation par ressource à la representation détaillée\n",
    "\n",
    "# la representation détaillée: matrice de n lignes (nombre de job) et m colonnes (nbre machines)\n",
    "# la jeme colonne correspond a la jieme op pour le job en question\n",
    "# chaque case contient la date de début de l'op correspondante\n",
    "\n",
    "import math\n",
    "infini = math.inf\n",
    "\n",
    "\n",
    "\n",
    "def ressource_to_detaillee(tupl_l, n, m, durations, machines):\n",
    "       \n",
    "    #on stocke à quelle tache en est chaque machine (max = n)\n",
    "    state = [0 for k in range(m)] #au début 0 pour chaque machine\n",
    "    \n",
    "    #on créé la matrice qu'on essaie de créer, la representation détailléee\n",
    "    detail = [[infini] * m for _ in range(n)] #np.zeros ((n*m)) #initialisation à 0\n",
    "    \n",
    "    it =  0\n",
    "    \n",
    "    #  \"on recommence à chaque fois qu'on avance..\"\"\n",
    "    while (max(max(detail))>=infini): # and (iter<5000)\n",
    "        \n",
    "        move = 0 #on regarde si on a réussi à remplir au moins une case dans la dernière itération\n",
    "        it+=1\n",
    "        #print(\"restart\")\n",
    "        \n",
    "        #on remplit colonne par colonne la représentation détaillée\n",
    "        for j in range(m):\n",
    "            for i in range(n):\n",
    "\n",
    "                #on s'interesse à la tache (i,j) la jème tache pour le job i\n",
    "\n",
    "                if detail[i][j] == infini: #sinon pas besoin de s'interesser à cette tache\n",
    "                \n",
    "                    #tps auquel la tache precedente pour le job sera finie\n",
    "                    if j==0:\n",
    "                        prec = 0\n",
    "                    if j>0:\n",
    "                        prec = detail[i][j-1] + durations[i,j-1]\n",
    "\n",
    "                    #print(\"prec job: \", prec)\n",
    "\n",
    "                    #on peut commencer seulement si machine necessaire pour la tache est libre\n",
    "                    #machine necessaire -> regarder matrice machines\n",
    "\n",
    "                    machine_used = machines[i,j]\n",
    "                    st = state[machine_used] #quelle colonne de ressource representation est la suivante\n",
    "\n",
    "                    job, num_op = tupl_l[machine_used][st]\n",
    "   \n",
    "                    if job != i:\n",
    "                        #on ne peut pas faire la tache desuite, la machine a une autre tache de prévue\n",
    "                        mac = infini\n",
    "                    if job ==i:\n",
    "                        if st ==0: #si st = 0, 1ère tache, la machine est prete\n",
    "                            mac = 0\n",
    "                        if st!=0:\n",
    "                        #la machine fnit sa tache precedente puis c'est le tour de notre tache\n",
    "                            prec_j, prec_tache_machine = tupl_l[machine_used][st-1]\n",
    "                            mac = detail[prec_j] [prec_tache_machine] + durations[prec_j, prec_tache_machine]\n",
    "\n",
    "                    #print(\"prec ressource: \", mac)\n",
    "                    startdate = max(mac,prec)\n",
    "                    detail[i][j] = startdate\n",
    "\n",
    "                    #mise à jour de state\n",
    "                    if startdate < infini:\n",
    "                        state[machine_used]+=1\n",
    "                        move += 1 #on a remplit une case\n",
    "                        \n",
    "        print(\"move after colonne : \", move)\n",
    "        \n",
    "                        \n",
    "       \n",
    "        \n",
    "        if move ==0:\n",
    "            print(\"no move\")\n",
    "            break\n",
    "\n",
    "    return detail\n",
    "            \n",
    "\n",
    "    "
   ]
  },
  {
   "cell_type": "code",
   "execution_count": 34,
   "metadata": {},
   "outputs": [
    {
     "name": "stdout",
     "output_type": "stream",
     "text": [
      "move after colonne :  14\n",
      "move after colonne :  9\n",
      "move after colonne :  19\n",
      "move after colonne :  8\n",
      "move after colonne :  17\n",
      "move after colonne :  10\n",
      "move after colonne :  8\n",
      "move after colonne :  12\n",
      "move after colonne :  1\n",
      "[[0, 363, 644, 738, 837, 904, 993, 1070, 1169, 1255], [0, 246, 575, 694, 769, 863, 1426, 1518, 1600, inf], [0, 302, 363, 446, 511, 575, 660, 868, 1296, 1630], [0, 94, 597, 769, 868, 1155, 1284, 1350, 1426, 1489], [50, 119, 454, 536, 631, 993, 1060, 1155, 1254, 1600], [0, 305, 660, 738, 929, 1216, 1321, 1489, 1551, 1630], [358, 511, 597, 694, 790, 1009, 1150, 1409, 1508, 1648], [207, 305, 378, 460, 658, 837, 1169, 1255, 1556, inf], [0, 94, 165, 408, 729, 1060, 1150, 1226, 1284, 1551], [0, 94, 153, 235, 302, 358, 804, 953, 1350, 1409]]\n"
     ]
    }
   ],
   "source": [
    "detail = ressource_to_detaillee(ressource, n, m, durations, machines)\n",
    "print(detail)"
   ]
  },
  {
   "cell_type": "code",
   "execution_count": 35,
   "metadata": {},
   "outputs": [
    {
     "data": {
      "text/plain": [
       "array([1, 5, 8, 9, 9, 4, 9, 8, 3, 0, 9, 4, 2, 9, 7, 2, 2, 9, 6, 8, 2, 6,\n",
       "       8, 5, 1, 3, 7, 2, 2, 3, 1, 0, 6, 5, 7, 0, 0, 7, 1, 4, 4, 2, 7, 4,\n",
       "       8, 1, 0, 7, 0, 4, 5, 9, 0, 1, 3, 2, 0, 6, 6, 8, 7, 4, 3, 9, 4, 4,\n",
       "       0, 5, 6, 8, 7, 3, 8, 3, 6, 0, 3, 1, 5, 1, 3, 8, 5, 5, 2, 9, 8, 3,\n",
       "       1, 6, 9, 6, 7, 6, 5, 5, 4, 1, 7, 2])"
      ]
     },
     "execution_count": 35,
     "metadata": {},
     "output_type": "execute_result"
    }
   ],
   "source": [
    "list_job"
   ]
  },
  {
   "cell_type": "code",
   "execution_count": 30,
   "metadata": {},
   "outputs": [
    {
     "data": {
      "text/plain": [
       "1782"
      ]
     },
     "execution_count": 30,
     "metadata": {},
     "output_type": "execute_result"
    }
   ],
   "source": [
    "def evaluate_detail(detail, n, m, machines, durations):\n",
    "    fins = []\n",
    "    for i in range(n):\n",
    "        fin = detail[i][m-1]\n",
    "        fins.append(fin)\n",
    "    \n",
    "    return max(fins)\n",
    "\n",
    "evaluate_detail(detail, n, m, machines, durations)"
   ]
  },
  {
   "cell_type": "code",
   "execution_count": null,
   "metadata": {},
   "outputs": [],
   "source": [
    "def validate_detail():\n",
    "    val = True\n",
    "    for i in range(n):\n",
    "        for j in range(1:m):    \n",
    "            #precedence\n",
    "            if detail[i][j]<detail[i][j-1]+durations[i][j-1]:\n",
    "                print(\"not correct precedence for ligne \", i, 'colonne: ', j)\n",
    "                val = False\n",
    "                break\n",
    "    \n",
    "    \n",
    "    #machine ne peut traiter qu'une tache à la fois\n",
    "    for k in range(m):\n",
    "        #on verifie qu'un machine ne fait qu'une tache à la fois\n",
    "        #retrouver toutes les taches de la machine et stocker les startdates (et enddates) comme tuples\n",
    "        #les ordonner par startdate\n",
    "        #verifier que startdate+duration<nextstartdate\n",
    "    \n",
    "    \n",
    "    return"
   ]
  },
  {
   "cell_type": "code",
   "execution_count": null,
   "metadata": {},
   "outputs": [],
   "source": [
    "def display_detail():\n",
    "    \n",
    "    return"
   ]
  },
  {
   "cell_type": "code",
   "execution_count": null,
   "metadata": {},
   "outputs": [],
   "source": [
    "def chemin_critique():\n",
    "    #Calculer le chemin critique et retourner la liste de tâches qui le compose\n",
    "    \n",
    "    return"
   ]
  }
 ],
 "metadata": {
  "kernelspec": {
   "display_name": "Python 3",
   "language": "python",
   "name": "python3"
  },
  "language_info": {
   "codemirror_mode": {
    "name": "ipython",
    "version": 3
   },
   "file_extension": ".py",
   "mimetype": "text/x-python",
   "name": "python",
   "nbconvert_exporter": "python",
   "pygments_lexer": "ipython3",
   "version": "3.7.9"
  }
 },
 "nbformat": 4,
 "nbformat_minor": 4
}
